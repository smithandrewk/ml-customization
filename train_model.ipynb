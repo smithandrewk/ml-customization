{
 "cells": [
  {
   "cell_type": "code",
   "execution_count": 16,
   "id": "c7a41299",
   "metadata": {},
   "outputs": [
    {
     "name": "stdout",
     "output_type": "stream",
     "text": [
      "Root metadata: {'gap_seconds': 1.0, 'min_segment_length': 10.0, 'sample_rate': 50}\n",
      "Recordings: ['2024-01-22_13_13_13']\n",
      "Recording metadata: {'num_segments': 1, 'sample_rate': 50}\n",
      "Segments: ['segment0']\n",
      "Segment metadata: {'duration_seconds': 38233.5206, 'end_time': 38233520600000, 'num_samples': 3807428, 'start_time': 0}\n"
     ]
    }
   ],
   "source": [
    "import h5py\n",
    "import torch\n",
    "\n",
    "with h5py.File('tonmoy.hdf5','r') as f:\n",
    "    print(\"Root metadata:\", dict(f.attrs))\n",
    "    recordings = list(f.keys())\n",
    "    print(\"Recordings:\", recordings)\n",
    "    recording = f[recordings[0]]\n",
    "    print(\"Recording metadata:\", dict(recording.attrs))\n",
    "    segments = list(recording.keys())\n",
    "    print(\"Segments:\", segments)\n",
    "    segment = recording[segments[0]]\n",
    "    print(\"Segment metadata:\", dict(segment.attrs))\n",
    "\n",
    "    data,labels = segment['data'][:], segment['labels'][:]\n",
    "\n",
    "    # Convert to torch tensors\n",
    "    X = torch.from_numpy(data).float()\n",
    "    y = torch.from_numpy(labels).long()"
   ]
  }
 ],
 "metadata": {
  "kernelspec": {
   "display_name": "Python 3",
   "language": "python",
   "name": "python3"
  },
  "language_info": {
   "codemirror_mode": {
    "name": "ipython",
    "version": 3
   },
   "file_extension": ".py",
   "mimetype": "text/x-python",
   "name": "python",
   "nbconvert_exporter": "python",
   "pygments_lexer": "ipython3",
   "version": "3.12.9"
  }
 },
 "nbformat": 4,
 "nbformat_minor": 5
}
