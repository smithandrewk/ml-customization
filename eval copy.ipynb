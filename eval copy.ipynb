{
 "cells": [
  {
   "cell_type": "code",
   "execution_count": 1,
   "id": "bb49de19",
   "metadata": {},
   "outputs": [
    {
     "name": "stderr",
     "output_type": "stream",
     "text": [
      "100%|██████████| 2/2 [00:00<00:00, 582.95it/s]"
     ]
    },
    {
     "name": "stdout",
     "output_type": "stream",
     "text": [
      "Experiment: b32_aug_patience40_full_fine_tuning_pct0.05_20250930_201205, Run: fold2_ejaz\n",
      "Experiment: b32_aug_patience40_full_fine_tuning_pct0.05_20250930_201205, Run: fold1_asfik\n",
      "Experiment: b32_aug_patience40_full_fine_tuning_pct0.05_20250930_201205, Run: fold0_tonmoy\n",
      "Experiment: b32_aug_patience40_full_fine_tuning_pct0.05_20250930_183003, Run: fold2_ejaz\n",
      "Experiment: b32_aug_patience40_full_fine_tuning_pct0.05_20250930_183003, Run: fold1_asfik\n",
      "Experiment: b32_aug_patience40_full_fine_tuning_pct0.05_20250930_183003, Run: fold4_unk1\n",
      "Experiment: b32_aug_patience40_full_fine_tuning_pct0.05_20250930_183003, Run: fold6_iftakhar\n",
      "Experiment: b32_aug_patience40_full_fine_tuning_pct0.05_20250930_183003, Run: fold0_tonmoy\n",
      "Experiment: b32_aug_patience40_full_fine_tuning_pct0.05_20250930_183003, Run: fold5_anam\n",
      "Experiment: b32_aug_patience40_full_fine_tuning_pct0.05_20250930_183003, Run: fold3_alsaad\n"
     ]
    },
    {
     "name": "stderr",
     "output_type": "stream",
     "text": [
      "\n"
     ]
    },
    {
     "data": {
      "text/html": [
       "<div>\n",
       "<style scoped>\n",
       "    .dataframe tbody tr th:only-of-type {\n",
       "        vertical-align: middle;\n",
       "    }\n",
       "\n",
       "    .dataframe tbody tr th {\n",
       "        vertical-align: top;\n",
       "    }\n",
       "\n",
       "    .dataframe thead th {\n",
       "        text-align: right;\n",
       "    }\n",
       "</style>\n",
       "<table border=\"1\" class=\"dataframe\">\n",
       "  <thead>\n",
       "    <tr style=\"text-align: right;\">\n",
       "      <th></th>\n",
       "      <th>batch_size</th>\n",
       "      <th>fold</th>\n",
       "      <th>best_target_model_target_test_f1</th>\n",
       "      <th>mode</th>\n",
       "      <th>target_data_pct</th>\n",
       "      <th>best_custom_model_on_target_val_loss</th>\n",
       "      <th>n_base_participants</th>\n",
       "    </tr>\n",
       "  </thead>\n",
       "  <tbody>\n",
       "    <tr>\n",
       "      <th>0</th>\n",
       "      <td>32</td>\n",
       "      <td>fold1_asfik</td>\n",
       "      <td>0.917021</td>\n",
       "      <td>full_fine_tuning</td>\n",
       "      <td>0.05</td>\n",
       "      <td>0.028614</td>\n",
       "      <td>2</td>\n",
       "    </tr>\n",
       "    <tr>\n",
       "      <th>1</th>\n",
       "      <td>32</td>\n",
       "      <td>fold0_tonmoy</td>\n",
       "      <td>0.912447</td>\n",
       "      <td>full_fine_tuning</td>\n",
       "      <td>0.05</td>\n",
       "      <td>0.022881</td>\n",
       "      <td>2</td>\n",
       "    </tr>\n",
       "    <tr>\n",
       "      <th>2</th>\n",
       "      <td>32</td>\n",
       "      <td>fold2_ejaz</td>\n",
       "      <td>0.942262</td>\n",
       "      <td>full_fine_tuning</td>\n",
       "      <td>0.05</td>\n",
       "      <td>0.046196</td>\n",
       "      <td>1</td>\n",
       "    </tr>\n",
       "    <tr>\n",
       "      <th>3</th>\n",
       "      <td>32</td>\n",
       "      <td>fold1_asfik</td>\n",
       "      <td>0.917203</td>\n",
       "      <td>full_fine_tuning</td>\n",
       "      <td>0.05</td>\n",
       "      <td>0.046827</td>\n",
       "      <td>1</td>\n",
       "    </tr>\n",
       "    <tr>\n",
       "      <th>4</th>\n",
       "      <td>32</td>\n",
       "      <td>fold4_unk1</td>\n",
       "      <td>0.949946</td>\n",
       "      <td>full_fine_tuning</td>\n",
       "      <td>0.05</td>\n",
       "      <td>0.044630</td>\n",
       "      <td>1</td>\n",
       "    </tr>\n",
       "    <tr>\n",
       "      <th>5</th>\n",
       "      <td>32</td>\n",
       "      <td>fold6_iftakhar</td>\n",
       "      <td>0.928778</td>\n",
       "      <td>full_fine_tuning</td>\n",
       "      <td>0.05</td>\n",
       "      <td>0.046202</td>\n",
       "      <td>1</td>\n",
       "    </tr>\n",
       "    <tr>\n",
       "      <th>6</th>\n",
       "      <td>32</td>\n",
       "      <td>fold0_tonmoy</td>\n",
       "      <td>0.903051</td>\n",
       "      <td>full_fine_tuning</td>\n",
       "      <td>0.05</td>\n",
       "      <td>0.044460</td>\n",
       "      <td>1</td>\n",
       "    </tr>\n",
       "    <tr>\n",
       "      <th>7</th>\n",
       "      <td>32</td>\n",
       "      <td>fold5_anam</td>\n",
       "      <td>0.768038</td>\n",
       "      <td>full_fine_tuning</td>\n",
       "      <td>0.05</td>\n",
       "      <td>0.045445</td>\n",
       "      <td>1</td>\n",
       "    </tr>\n",
       "    <tr>\n",
       "      <th>8</th>\n",
       "      <td>32</td>\n",
       "      <td>fold3_alsaad</td>\n",
       "      <td>0.862177</td>\n",
       "      <td>full_fine_tuning</td>\n",
       "      <td>0.05</td>\n",
       "      <td>0.042978</td>\n",
       "      <td>1</td>\n",
       "    </tr>\n",
       "  </tbody>\n",
       "</table>\n",
       "</div>"
      ],
      "text/plain": [
       "   batch_size            fold  best_target_model_target_test_f1  \\\n",
       "0          32     fold1_asfik                          0.917021   \n",
       "1          32    fold0_tonmoy                          0.912447   \n",
       "2          32      fold2_ejaz                          0.942262   \n",
       "3          32     fold1_asfik                          0.917203   \n",
       "4          32      fold4_unk1                          0.949946   \n",
       "5          32  fold6_iftakhar                          0.928778   \n",
       "6          32    fold0_tonmoy                          0.903051   \n",
       "7          32      fold5_anam                          0.768038   \n",
       "8          32    fold3_alsaad                          0.862177   \n",
       "\n",
       "               mode  target_data_pct  best_custom_model_on_target_val_loss  \\\n",
       "0  full_fine_tuning             0.05                              0.028614   \n",
       "1  full_fine_tuning             0.05                              0.022881   \n",
       "2  full_fine_tuning             0.05                              0.046196   \n",
       "3  full_fine_tuning             0.05                              0.046827   \n",
       "4  full_fine_tuning             0.05                              0.044630   \n",
       "5  full_fine_tuning             0.05                              0.046202   \n",
       "6  full_fine_tuning             0.05                              0.044460   \n",
       "7  full_fine_tuning             0.05                              0.045445   \n",
       "8  full_fine_tuning             0.05                              0.042978   \n",
       "\n",
       "   n_base_participants  \n",
       "0                    2  \n",
       "1                    2  \n",
       "2                    1  \n",
       "3                    1  \n",
       "4                    1  \n",
       "5                    1  \n",
       "6                    1  \n",
       "7                    1  \n",
       "8                    1  "
      ]
     },
     "execution_count": 1,
     "metadata": {},
     "output_type": "execute_result"
    }
   ],
   "source": [
    "\"\"\"\n",
    "This block plots performance from entire experiments directory for something like a hyperparameter sweep.\n",
    "\"\"\"\n",
    "import os\n",
    "import json\n",
    "import pandas as pd\n",
    "import seaborn as sns\n",
    "from sklearn.metrics import classification_report, ConfusionMatrixDisplay, f1_score\n",
    "from torch.utils.data import DataLoader, TensorDataset\n",
    "import torch\n",
    "from torch import nn\n",
    "from lib.utils_simple import evaluate, compute_loss_and_f1\n",
    "from lib.models import ConvLayerNorm, Block\n",
    "import matplotlib.pyplot as plt\n",
    "\n",
    "data = []\n",
    "from tqdm import tqdm\n",
    "\n",
    "experiments_dir = f'./experiments'\n",
    "\n",
    "for experiment in tqdm(os.listdir(experiments_dir)):\n",
    "    base_f1s = []\n",
    "    target_f1s = []\n",
    "    folds = []\n",
    "\n",
    "    for run in os.listdir(f'{experiments_dir}/{experiment}'):\n",
    "        print(f'Experiment: {experiment}, Run: {run}')\n",
    "        if not os.path.exists(f'{experiments_dir}/{experiment}/{run}/metrics.json'):\n",
    "            continue\n",
    "        metrics = json.load(open(f'{experiments_dir}/{experiment}/{run}/metrics.json'))\n",
    "        losses = json.load(open(f'{experiments_dir}/{experiment}/{run}/losses.json'))\n",
    "        hyperparameters = json.load(open(f'{experiments_dir}/{experiment}/{run}/hyperparameters.json'))\n",
    "\n",
    "        if 'n_base_participants' not in hyperparameters: # before I added this to hyperparameters\n",
    "            hyperparameters['n_base_participants'] = len(hyperparameters['participants']) - 1\n",
    "\n",
    "        if 'best_target_model_target_test_f1' not in metrics:\n",
    "            print(f'Skipping {experiment}/{run} because no best_target_model_target_test_f1 in metrics.json')\n",
    "            continue\n",
    "        best_target_model_target_test_f1 = metrics['best_target_model_target_test_f1'] # temporary naming artifact\n",
    "\n",
    "        data.append({\n",
    "            'batch_size': hyperparameters['batch_size'], \n",
    "            'fold': run, \n",
    "            'best_target_model_target_test_f1': best_target_model_target_test_f1, \n",
    "            'mode': hyperparameters['mode'], \n",
    "            'target_data_pct': hyperparameters['target_data_pct'], \n",
    "            'best_custom_model_on_target_val_loss': metrics['best_base_val_loss'],\n",
    "            'n_base_participants': hyperparameters['n_base_participants'],\n",
    "        })\n",
    "        \n",
    "df = pd.DataFrame(data)\n",
    "df = df[df['mode'] == 'full_fine_tuning']\n",
    "df"
   ]
  },
  {
   "cell_type": "code",
   "execution_count": 64,
   "id": "4de4cc8d",
   "metadata": {},
   "outputs": [
    {
     "data": {
      "text/plain": [
       "<Axes: xlabel='n_base_participants', ylabel='best_target_model_target_test_f1'>"
      ]
     },
     "execution_count": 64,
     "metadata": {},
     "output_type": "execute_result"
    },
    {
     "data": {
      "image/png": "[encoded data removed]",
      "text/plain": [
       "<Figure size 640x480 with 1 Axes>"
      ]
     },
     "metadata": {},
     "output_type": "display_data"
    }
   ],
   "source": [
    "sns.boxplot(data=df, x='n_base_participants', y='best_target_model_target_test_f1')"
   ]
  },
  {
   "cell_type": "code",
   "execution_count": 66,
   "id": "cd4392cb",
   "metadata": {},
   "outputs": [
    {
     "data": {
      "text/plain": [
       "<Axes: xlabel='n_base_participants', ylabel='best_target_model_target_test_f1'>"
      ]
     },
     "execution_count": 66,
     "metadata": {},
     "output_type": "execute_result"
    },
    {
     "data": {
      "image/png": "[encoded data removed]",
      "text/plain": [
       "<Figure size 640x480 with 1 Axes>"
      ]
     },
     "metadata": {},
     "output_type": "display_data"
    }
   ],
   "source": [
    "sns.lineplot(data=df, x='n_base_participants', y='best_target_model_target_test_f1',hue='fold')\n"
   ]
  },
  {
   "cell_type": "code",
   "execution_count": null,
   "id": "a48ed1b9",
   "metadata": {},
   "outputs": [],
   "source": [
    "\n",
    "display(df)\n",
    "\n",
    "# Create a 2x2 subplot layout\n",
    "fig, axes = plt.subplots(2, 2, figsize=(12, 8))\n",
    "fig.suptitle('Model Performance Analysis', fontsize=16)\n",
    "\n",
    "# Loss plots\n",
    "sns.lineplot(data=df, x='batch_size', y='best_custom_model_on_target_val_loss', \n",
    "             hue='fold', marker='o', ax=axes[0, 0])\n",
    "axes[0, 0].set_title('Validation Loss by Batch Size (Line Plot)')\n",
    "axes[0, 0].set_ylabel('Validation Loss')\n",
    "\n",
    "sns.boxplot(data=df, x='batch_size', y='best_custom_model_on_target_val_loss', ax=axes[0, 1])\n",
    "axes[0, 1].set_title('Validation Loss Distribution by Batch Size')\n",
    "axes[0, 1].set_ylabel('Validation Loss')\n",
    "\n",
    "# F1 plots\n",
    "sns.lineplot(data=df, x='batch_size', y='best_custom_model_on_target_val_f1', \n",
    "             hue='fold', marker='o', ax=axes[1, 0])\n",
    "axes[1, 0].set_title('Validation F1 by Batch Size (Line Plot)')\n",
    "axes[1, 0].set_ylabel('Validation F1')\n",
    "\n",
    "sns.boxplot(data=df, x='batch_size', y='best_custom_model_on_target_val_f1', ax=axes[1, 1])\n",
    "axes[1, 1].set_title('Validation F1 Distribution by Batch Size')\n",
    "axes[1, 1].set_ylabel('Validation F1')\n",
    "\n",
    "plt.tight_layout()\n",
    "plt.show()\n"
   ]
  }
 ],
 "metadata": {
  "kernelspec": {
   "display_name": "Python 3",
   "language": "python",
   "name": "python3"
  },
  "language_info": {
   "codemirror_mode": {
    "name": "ipython",
    "version": 3
   },
   "file_extension": ".py",
   "mimetype": "text/x-python",
   "name": "python",
   "nbconvert_exporter": "python",
   "pygments_lexer": "ipython3",
   "version": "3.10.12"
  }
 },
 "nbformat": 4,
 "nbformat_minor": 5
}
